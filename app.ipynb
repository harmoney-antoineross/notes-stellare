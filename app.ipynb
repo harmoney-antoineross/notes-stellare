{
 "cells": [
  {
   "cell_type": "code",
   "execution_count": 5,
   "metadata": {},
   "outputs": [],
   "source": [
    "from diagrams import Diagram, Cluster, Edge\n",
    "from diagrams.onprem.client import User\n",
    "from diagrams.aws.general import General\n",
    "\n",
    "with Diagram(\"User Signup and PQ Flow\", show=False):\n",
    "    user = User(\"User\")\n",
    "    \n",
    "    with Cluster(\"Pre-Qualification (PQ)\"):\n",
    "        check_email = General(\"Check Email\")\n",
    "        find_existing_pq = General(\"Find Existing PQ\")\n",
    "        pq_start = General(\"Start PQ\")\n",
    "        accept_terms = General(\"Accept Terms?\")\n",
    "        terms_expire = General(\"Terms Expired?\")\n",
    "        link_pq = General(\"Link PQ to User\")\n",
    "        validate_terms = General(\"Validate Terms\")\n",
    "\n",
    "    with Cluster(\"Harmoney Signup\"):\n",
    "        signup = General(\"Signup\")\n",
    "        verify_existing = General(\"Verify ThirdPartyId\")\n",
    "        check_loan_exists = General(\"Has Loan?\")\n",
    "        create_quote = General(\"Create Quote?\")\n",
    "\n",
    "    with Cluster(\"Loan Application\"):\n",
    "        create_loan = General(\"Create Loan\")\n",
    "        update_pq = General(\"Update PQ with Loan ID\")\n",
    "\n",
    "    # Initial Entry Points\n",
    "    user >> pq_start\n",
    "    user - Edge(label=\"Direct Signup\") >> signup\n",
    "\n",
    "    # PQ Flow\n",
    "    pq_start >> check_email\n",
    "    check_email >> find_existing_pq\n",
    "    find_existing_pq - Edge(label=\"No PQ Found\") >> accept_terms\n",
    "    find_existing_pq - Edge(label=\"Found Valid PQ\") >> validate_terms\n",
    "    \n",
    "    # Terms Flow\n",
    "    accept_terms - Edge(label=\"Yes\") >> link_pq\n",
    "    accept_terms - Edge(label=\"No\") >> terms_expire\n",
    "    terms_expire - Edge(label=\"Expired\") >> accept_terms\n",
    "    terms_expire - Edge(label=\"Valid\") >> link_pq\n",
    "    validate_terms - Edge(label=\"Valid\") >> link_pq\n",
    "    validate_terms - Edge(label=\"Expired\") >> accept_terms\n",
    "\n",
    "    # Signup Flow\n",
    "    link_pq >> verify_existing\n",
    "    signup >> verify_existing\n",
    "    verify_existing >> check_loan_exists\n",
    "    check_loan_exists - Edge(label=\"No\") >> create_quote\n",
    "    \n",
    "    # Quote and Loan Flow\n",
    "    create_quote - Edge(label=\"Yes\") >> create_loan\n",
    "    create_quote - Edge(label=\"No\") >> find_existing_pq\n",
    "    create_loan >> update_pq\n",
    "    update_pq - Edge(label=\"Return to PQ\") >> find_existing_pq"
   ]
  },
  {
   "cell_type": "code",
   "execution_count": 7,
   "metadata": {},
   "outputs": [
    {
     "name": "stderr",
     "output_type": "stream",
     "text": [
      "UsageError: Line magic function `%brew` not found.\n"
     ]
    }
   ],
   "source": [
    "%brew install graphviz"
   ]
  },
  {
   "cell_type": "code",
   "execution_count": null,
   "metadata": {},
   "outputs": [],
   "source": []
  }
 ],
 "metadata": {
  "kernelspec": {
   "display_name": "Python 3",
   "language": "python",
   "name": "python3"
  },
  "language_info": {
   "codemirror_mode": {
    "name": "ipython",
    "version": 3
   },
   "file_extension": ".py",
   "mimetype": "text/x-python",
   "name": "python",
   "nbconvert_exporter": "python",
   "pygments_lexer": "ipython3",
   "version": "3.11.6"
  }
 },
 "nbformat": 4,
 "nbformat_minor": 2
}
